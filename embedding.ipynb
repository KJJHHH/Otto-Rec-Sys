{
 "cells": [
  {
   "cell_type": "code",
   "execution_count": null,
   "metadata": {},
   "outputs": [],
   "source": [
    "import json \n",
    "import pandas as pd\n",
    "import numpy as np\n",
    "\n",
    "from sklearn.preprocessing import OneHotEncoder\n",
    "\n",
    "from tqdm import tqdm\n",
    "\n",
    "trainfile = \"train.jsonl\"\n",
    "batch_size = 5000\n",
    "start = 0\n",
    "\n",
    "def loadBatchData(start, batch_size, filename):\n",
    "    trainset = []\n",
    "    with open(filename, \"r\", encoding=\"utf-8\") as file:\n",
    "        for id, line in enumerate(file):\n",
    "            if id < start:\n",
    "                continue\n",
    "            if id >= start + batch_size:\n",
    "                break\n",
    "            try:\n",
    "                data = json.loads(line)  # Convert JSON string to dictionary\n",
    "                trainset.append(data)\n",
    "            except: \n",
    "                print(\"bad lines\")\n",
    "                continue\n",
    "            \n",
    "    return trainset\n",
    "            \n",
    "trainset = loadBatchData(start, batch_size, trainfile)\n",
    "        "
   ]
  },
  {
   "cell_type": "code",
   "execution_count": 2,
   "metadata": {},
   "outputs": [],
   "source": [
    "# define action space\n",
    "def getItems(trainset) -> set:\n",
    "    actions = [] # items\n",
    "    for session in trainset:\n",
    "        for i in [i[\"aid\"] for i in session[\"events\"]]:\n",
    "            actions.append(i)\n",
    "    return set(actions)\n"
   ]
  },
  {
   "cell_type": "code",
   "execution_count": 3,
   "metadata": {},
   "outputs": [
    {
     "name": "stdout",
     "output_type": "stream",
     "text": [
      "125707\n"
     ]
    }
   ],
   "source": [
    "def getEncoding(items: set) -> dict:\n",
    "    \"\"\"\n",
    "    Output:\n",
    "        key: item id\n",
    "        data: one hot encoding\n",
    "    \"\"\"\n",
    "    \n",
    "    data = np.array([list(items)])\n",
    "    encoder = OneHotEncoder(sparse_output=False)\n",
    "    one_hot = encoder.fit_transform(data)\n",
    "    \n",
    "    encoding = {}\n",
    "    for i in encoder.get_feature_names_out():\n",
    "        encode = i.split(\"_\")\n",
    "        data = int(encode[0][1:])\n",
    "        key = int(encode[1])\n",
    "        encoding[key] = data  \n",
    "\n",
    "    return encoding\n",
    "\n",
    "\n",
    "items = getItems(trainset)\n",
    "encoding = getEncoding(items)\n",
    "print(len(items))"
   ]
  },
  {
   "cell_type": "code",
   "execution_count": null,
   "metadata": {},
   "outputs": [],
   "source": [
    "def getEmbeddingTrainSet(trainset, context_window: int = 60*60*24*1000) -> tuple[list, list]:\n",
    "    \"\"\"\n",
    "    X[0]: [0 ... 0 1 0 ... 0] index at X[0] = 1\n",
    "    y[0]: [0...0 1 0...0 ] index at y[0] = 1\n",
    "    y[0] for compute loss\n",
    "    \"\"\"\n",
    "    trainset[0]\n",
    "    context_window = 60*60*24*1000 # 1 day\n",
    "    X = [] # Input\n",
    "    y = [] # Near\n",
    "    for session in tqdm(trainset):\n",
    "        session_ = pd.DataFrame(session[\"events\"])\n",
    "        for ev in session[\"events\"]:\n",
    "            X.append(ev[\"aid\"])\n",
    "            y.append(list(session_[(session_[\"ts\"] < ev[\"ts\"] + context_window) & (session_[\"ts\"] > ev[\"ts\"] - context_window)][\"aid\"]))\n",
    "    return X, y"
   ]
  },
  {
   "cell_type": "code",
   "execution_count": 9,
   "metadata": {},
   "outputs": [
    {
     "name": "stderr",
     "output_type": "stream",
     "text": [
      "100%|██████████| 5000/5000 [02:46<00:00, 30.10it/s]\n"
     ]
    }
   ],
   "source": [
    "\n",
    "\"\"\"\n",
    "X[0]: [0 ... 0 1 0 ... 0] index at X[0] = 1\n",
    "y[0]: [0...0 1 0...0 ] index at y[0] = 1\n",
    "y[0] for compute loss\n",
    "\"\"\"\n",
    "context_window = 60*60*24*1000 # 1 day\n",
    "X = [] # Input\n",
    "y = [] # Near\n",
    "for session in tqdm(trainset):\n",
    "    session_ = pd.DataFrame(session[\"events\"])\n",
    "    for ev in session[\"events\"]:\n",
    "        X.append(ev[\"aid\"])\n",
    "        y.append(list(session_[(session_[\"ts\"] < ev[\"ts\"] + context_window) & (session_[\"ts\"] > ev[\"ts\"] - context_window)][\"aid\"]))\n",
    "        "
   ]
  },
  {
   "cell_type": "code",
   "execution_count": 10,
   "metadata": {},
   "outputs": [
    {
     "ename": "ModuleNotFoundError",
     "evalue": "No module named 'torch'",
     "output_type": "error",
     "traceback": [
      "\u001b[0;31m---------------------------------------------------------------------------\u001b[0m",
      "\u001b[0;31mModuleNotFoundError\u001b[0m                       Traceback (most recent call last)",
      "Cell \u001b[0;32mIn[10], line 1\u001b[0m\n\u001b[0;32m----> 1\u001b[0m \u001b[38;5;28;01mimport\u001b[39;00m\u001b[38;5;250m \u001b[39m\u001b[38;5;21;01mtorch\u001b[39;00m\n\u001b[1;32m      3\u001b[0m \u001b[38;5;28mprint\u001b[39m(\u001b[38;5;124m\"\u001b[39m\u001b[38;5;124mTorch Version:\u001b[39m\u001b[38;5;124m\"\u001b[39m, torch\u001b[38;5;241m.\u001b[39m__version__)  \u001b[38;5;66;03m# Print PyTorch version\u001b[39;00m\n\u001b[1;32m      4\u001b[0m \u001b[38;5;28mprint\u001b[39m(\u001b[38;5;124m\"\u001b[39m\u001b[38;5;124mCUDA Available:\u001b[39m\u001b[38;5;124m\"\u001b[39m, torch\u001b[38;5;241m.\u001b[39mcuda\u001b[38;5;241m.\u001b[39mis_available())  \u001b[38;5;66;03m# Check if GPU is available\u001b[39;00m\n",
      "\u001b[0;31mModuleNotFoundError\u001b[0m: No module named 'torch'"
     ]
    }
   ],
   "source": [
    "import torch\n",
    "\n",
    "print(\"Torch Version:\", torch.__version__)  # Print PyTorch version\n",
    "print(\"CUDA Available:\", torch.cuda.is_available())  # Check if GPU is available\n",
    "\n",
    "if torch.cuda.is_available():\n",
    "    print(\"GPU Name:\", torch.cuda.get_device_name(0))  # Print GPU name\n"
   ]
  },
  {
   "cell_type": "code",
   "execution_count": null,
   "metadata": {},
   "outputs": [],
   "source": [
    "import torch\n",
    "import torch.nn as nn\n",
    "import torch.optim as optim\n",
    "\n",
    "# Define a Two-Layer Neural Network\n",
    "class TwoLayerNet(nn.Module):\n",
    "    def __init__(self, input_size, hidden_size, output_size):\n",
    "        super(TwoLayerNet, self).__init__()\n",
    "        self.fc1 = nn.Linear(input_size, hidden_size)  # First layer\n",
    "        self.relu = nn.ReLU()  # Activation function\n",
    "        self.fc2 = nn.Linear(hidden_size, output_size)  # Output layer\n",
    "\n",
    "    def forward(self, x):\n",
    "        x = self.fc1(x)  # First layer\n",
    "        x = self.relu(x)  # Activation function\n",
    "        x = self.fc2(x)  # Output layer\n",
    "        return x\n",
    "\n",
    "# Hyperparameters\n",
    "input_size = 10   # Example input size (features)\n",
    "hidden_size = 32  # Hidden layer size\n",
    "output_size = 2   # Example output size (binary classification)\n",
    "\n",
    "# Initialize model, loss, and optimizer\n",
    "model = TwoLayerNet(input_size, hidden_size, output_size)\n",
    "criterion = nn.CrossEntropyLoss()  # Suitable for classification tasks\n",
    "optimizer = optim.Adam(model.parameters(), lr=0.001)\n",
    "\n",
    "# Example Training Loop (with dummy data)\n",
    "for epoch in range(10):  # 10 epochs\n",
    "    inputs = torch.rand(5, input_size)  # 5 sample inputs\n",
    "    labels = torch.randint(0, output_size, (5,))  # Random target labels\n",
    "\n",
    "    optimizer.zero_grad()  # Reset gradients\n",
    "    outputs = model(inputs)  # Forward pass\n",
    "    loss = criterion(outputs, labels)  # Compute loss\n",
    "    loss.backward()  # Backpropagation\n",
    "    optimizer.step()  # Update weights\n",
    "\n",
    "    print(f\"Epoch [{epoch+1}/10], Loss: {loss.item():.4f}\")\n",
    "\n",
    "# Example Prediction\n",
    "test_input = torch.rand(1, input_size)  # Single test sample\n",
    "predicted = model(test_input)\n",
    "print(\"\\nPredicted Output:\", predicted)\n"
   ]
  },
  {
   "cell_type": "code",
   "execution_count": null,
   "metadata": {},
   "outputs": [
    {
     "name": "stdout",
     "output_type": "stream",
     "text": [
      "Datetime: 2022-08-01 06:00:00.025000\n"
     ]
    }
   ],
   "source": [
    "\n",
    "\n",
    "# Given timestamp in milliseconds\n",
    "timestamp_ms = trainset[0][\"events\"][0][\"ts\"]\n",
    "\n",
    "# Convert milliseconds to seconds\n",
    "timestamp_sec = timestamp_ms / 1000\n",
    "\n",
    "# Create a datetime object from the timestamp\n",
    "dt = datetime.datetime.fromtimestamp(timestamp_sec)\n",
    "\n",
    "print(\"Datetime:\", dt)\n"
   ]
  },
  {
   "cell_type": "code",
   "execution_count": null,
   "metadata": {},
   "outputs": [
    {
     "ename": "TypeError",
     "evalue": "cannot unpack non-iterable int object",
     "output_type": "error",
     "traceback": [
      "\u001b[0;31m---------------------------------------------------------------------------\u001b[0m",
      "\u001b[0;31mTypeError\u001b[0m                                 Traceback (most recent call last)",
      "Cell \u001b[0;32mIn[65], line 1\u001b[0m\n\u001b[0;32m----> 1\u001b[0m \u001b[38;5;28;01mfor\u001b[39;00m k, d \u001b[38;5;129;01min\u001b[39;00m encoding:\n\u001b[1;32m      2\u001b[0m     \u001b[38;5;28mprint\u001b[39m(d)\n",
      "\u001b[0;31mTypeError\u001b[0m: cannot unpack non-iterable int object"
     ]
    }
   ],
   "source": [
    "for k, d in encoding:\n",
    "    print(d)"
   ]
  }
 ],
 "metadata": {
  "kernelspec": {
   "display_name": "recsys",
   "language": "python",
   "name": "python3"
  },
  "language_info": {
   "codemirror_mode": {
    "name": "ipython",
    "version": 3
   },
   "file_extension": ".py",
   "mimetype": "text/x-python",
   "name": "python",
   "nbconvert_exporter": "python",
   "pygments_lexer": "ipython3",
   "version": "3.10.12"
  }
 },
 "nbformat": 4,
 "nbformat_minor": 2
}
